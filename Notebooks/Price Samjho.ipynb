{
  "nbformat": 4,
  "nbformat_minor": 0,
  "metadata": {
    "colab": {
      "name": "Analyzing and Predicting Apartment Price in Kolkata, India.ipynb",
      "provenance": []
    },
    "kernelspec": {
      "name": "python3",
      "display_name": "Python 3"
    }
  },
  "cells": [
    {
      "cell_type": "markdown",
      "metadata": {
        "id": "g_6kj3a_69FB"
      },
      "source": [
        "\n",
        "#**Analyzing and Predicting Apartment Price in Kolkata, India**\n",
        "\n",
        "*Anindya Chowdhury*\n",
        "\n",
        "*November 13, 2020*\n"
      ]
    },
    {
      "cell_type": "markdown",
      "metadata": {
        "id": "Mqy50VKF8AT7"
      },
      "source": [
        "## **1.\tIntroduction**"
      ]
    },
    {
      "cell_type": "code",
      "metadata": {
        "id": "nrALmPfp4oh5"
      },
      "source": [
        ""
      ],
      "execution_count": null,
      "outputs": []
    }
  ]
}