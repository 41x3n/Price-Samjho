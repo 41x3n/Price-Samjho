{
  "nbformat": 4,
  "nbformat_minor": 0,
  "metadata": {
    "colab": {
      "name": "Generating the Datasets.ipynb",
      "provenance": []
    },
    "kernelspec": {
      "name": "python3",
      "display_name": "Python 3"
    }
  },
  "cells": [
    {
      "cell_type": "code",
      "metadata": {
        "id": "rFNpoeuA4MZo"
      },
      "source": [
        "import pandas as pd\n",
        "import requests"
      ],
      "execution_count": 2,
      "outputs": []
    },
    {
      "cell_type": "code",
      "metadata": {
        "id": "vmVjzds2lSgV",
        "outputId": "b3a9d68f-6647-4737-a8a4-249d0c1275ca",
        "colab": {
          "base_uri": "https://localhost:8080/"
        }
      },
      "source": [
        "count = 1\n",
        "ID_list = []\n",
        "while(count >= 1):\n",
        "  url = f\"https://www.99acres.com/api-aggregator/srp/search?property_type=1&area_unit=1&platform=DESKTOP&moduleName=GRAILS_SRP&workflow=GRAILS_SRP&page_size=30&page={count}&city=25&preference=S&res_com=R&seoUrlType=DEFAULT\"\n",
        "  response = requests.get(url)\n",
        "  response = response.json()\n",
        "  if response['status']['code'] != 1:\n",
        "      break\n",
        "  else:\n",
        "    ids = response['properties']\n",
        "    c = 1\n",
        "    for id in ids:\n",
        "      if c != 31:\n",
        "        ID_list.append(id['PROP_ID'])\n",
        "        c += 1\n",
        "  count += 1\n",
        "\n",
        "print(len(ID_list))"
      ],
      "execution_count": 32,
      "outputs": [
        {
          "output_type": "stream",
          "text": [
            "16800\n"
          ],
          "name": "stdout"
        }
      ]
    },
    {
      "cell_type": "code",
      "metadata": {
        "id": "nmKdy7fHCbON"
      },
      "source": [
        "output = pd.DataFrame()\n",
        "\n",
        "for id in ID_list:\n",
        "  url = f\"https://www.99acres.com/api-aggregator/psuedoData?prop_id={id}&stage=load\"\n",
        "  response = requests.get(url)\n",
        "  response = response.json()\n",
        "\n",
        "  prop_data = response['propertyDetails']['prop_data']\n",
        "\n",
        "  lattitude = prop_data['Latitude']\n",
        "  longitude = prop_data['Longitude']\n",
        "  post_date = prop_data['Modify_Date']\n",
        "  availability_date = prop_data['Availability_Info']['Availability_Date']\n",
        "  owner_name = prop_data['company_label']\n",
        "  property_name = prop_data['Prop_Name']\n",
        "  id = prop_data['Building_Id']\n",
        "  locality_name = prop_data ['Locality_Name']\n",
        "  base_price = prop_data['Price_Per_Unit_Area']\n",
        "\n",
        "  try:\n",
        "      for floor in response['floorPlan']:\n",
        "        area_sqft = floor['SALEABLE_AREA_SQFT']\n",
        "        price = floor['NEW_BOOKING_PRICE']['min']\n",
        "        details = floor['unitDetailSectionParts']\n",
        "        bedrooms = details['bedrooms']\n",
        "        kitchens = details['kitchens']\n",
        "        bathroom = details['bathroom']\n",
        "        balcony = details['balcony']\n",
        "        living = details['living']\n",
        "        data = {'id': id, \n",
        "                'lattitude': lattitude, \n",
        "                'longitude': longitude, \n",
        "                'post_date': post_date, \n",
        "                'availability_date': availability_date, \n",
        "                'owner_name': owner_name, \n",
        "                'property_name': property_name, \n",
        "                'locality_name': locality_name, \n",
        "                'base_price': base_price, \n",
        "                'area_sqft': area_sqft, \n",
        "                'price': price, \n",
        "                'bedrooms': bedrooms, \n",
        "                'kitchens': kitchens, \n",
        "                'bathroom': bathroom, \n",
        "                'balcony': balcony, \n",
        "                'living': living}\n",
        "        output = output.append(data, ignore_index=True)\n",
        "  except:\n",
        "    pass"
      ],
      "execution_count": null,
      "outputs": []
    },
    {
      "cell_type": "code",
      "metadata": {
        "id": "AmZLdMQdytb9",
        "outputId": "c4643c94-8601-4f44-a351-8750b661764a",
        "colab": {
          "base_uri": "https://localhost:8080/",
          "height": 293
        }
      },
      "source": [
        "output.head()"
      ],
      "execution_count": 90,
      "outputs": [
        {
          "output_type": "execute_result",
          "data": {
            "text/html": [
              "<div>\n",
              "<style scoped>\n",
              "    .dataframe tbody tr th:only-of-type {\n",
              "        vertical-align: middle;\n",
              "    }\n",
              "\n",
              "    .dataframe tbody tr th {\n",
              "        vertical-align: top;\n",
              "    }\n",
              "\n",
              "    .dataframe thead th {\n",
              "        text-align: right;\n",
              "    }\n",
              "</style>\n",
              "<table border=\"1\" class=\"dataframe\">\n",
              "  <thead>\n",
              "    <tr style=\"text-align: right;\">\n",
              "      <th></th>\n",
              "      <th>area_sqft</th>\n",
              "      <th>availability_date</th>\n",
              "      <th>balcony</th>\n",
              "      <th>base_price</th>\n",
              "      <th>bathroom</th>\n",
              "      <th>bedrooms</th>\n",
              "      <th>id</th>\n",
              "      <th>kitchens</th>\n",
              "      <th>lattitude</th>\n",
              "      <th>living</th>\n",
              "      <th>locality_name</th>\n",
              "      <th>longitude</th>\n",
              "      <th>owner_name</th>\n",
              "      <th>post_date</th>\n",
              "      <th>price</th>\n",
              "      <th>property_name</th>\n",
              "      <th>url</th>\n",
              "    </tr>\n",
              "  </thead>\n",
              "  <tbody>\n",
              "    <tr>\n",
              "      <th>0</th>\n",
              "      <td>1361.0</td>\n",
              "      <td>Oct 01, 2023</td>\n",
              "      <td>None</td>\n",
              "      <td>7391</td>\n",
              "      <td>None</td>\n",
              "      <td>3.0</td>\n",
              "      <td>768153</td>\n",
              "      <td>0.0</td>\n",
              "      <td>22.499612</td>\n",
              "      <td>None</td>\n",
              "      <td>E M Bypass</td>\n",
              "      <td>88.408207</td>\n",
              "      <td>Natural Group &amp; Shivom Realty</td>\n",
              "      <td>Nov 02, 2020</td>\n",
              "      <td>10000000.0</td>\n",
              "      <td>Shivom Utopia</td>\n",
              "      <td>https://www.99acres.com/3-bhk-bedroom-apartmen...</td>\n",
              "    </tr>\n",
              "    <tr>\n",
              "      <th>1</th>\n",
              "      <td>1373.0</td>\n",
              "      <td>Oct 01, 2023</td>\n",
              "      <td>None</td>\n",
              "      <td>7391</td>\n",
              "      <td>None</td>\n",
              "      <td>3.0</td>\n",
              "      <td>768153</td>\n",
              "      <td>0.0</td>\n",
              "      <td>22.499612</td>\n",
              "      <td>None</td>\n",
              "      <td>E M Bypass</td>\n",
              "      <td>88.408207</td>\n",
              "      <td>Natural Group &amp; Shivom Realty</td>\n",
              "      <td>Nov 02, 2020</td>\n",
              "      <td>10100000.0</td>\n",
              "      <td>Shivom Utopia</td>\n",
              "      <td>https://www.99acres.com/3-bhk-bedroom-apartmen...</td>\n",
              "    </tr>\n",
              "    <tr>\n",
              "      <th>2</th>\n",
              "      <td>1531.0</td>\n",
              "      <td>Oct 01, 2023</td>\n",
              "      <td>None</td>\n",
              "      <td>7391</td>\n",
              "      <td>None</td>\n",
              "      <td>3.0</td>\n",
              "      <td>768153</td>\n",
              "      <td>0.0</td>\n",
              "      <td>22.499612</td>\n",
              "      <td>None</td>\n",
              "      <td>E M Bypass</td>\n",
              "      <td>88.408207</td>\n",
              "      <td>Natural Group &amp; Shivom Realty</td>\n",
              "      <td>Nov 02, 2020</td>\n",
              "      <td>11200000.0</td>\n",
              "      <td>Shivom Utopia</td>\n",
              "      <td>https://www.99acres.com/3-bhk-bedroom-apartmen...</td>\n",
              "    </tr>\n",
              "    <tr>\n",
              "      <th>3</th>\n",
              "      <td>1532.0</td>\n",
              "      <td>Oct 01, 2023</td>\n",
              "      <td>None</td>\n",
              "      <td>7391</td>\n",
              "      <td>None</td>\n",
              "      <td>3.0</td>\n",
              "      <td>768153</td>\n",
              "      <td>0.0</td>\n",
              "      <td>22.499612</td>\n",
              "      <td>None</td>\n",
              "      <td>E M Bypass</td>\n",
              "      <td>88.408207</td>\n",
              "      <td>Natural Group &amp; Shivom Realty</td>\n",
              "      <td>Nov 02, 2020</td>\n",
              "      <td>11200000.0</td>\n",
              "      <td>Shivom Utopia</td>\n",
              "      <td>https://www.99acres.com/3-bhk-bedroom-apartmen...</td>\n",
              "    </tr>\n",
              "    <tr>\n",
              "      <th>4</th>\n",
              "      <td>1704.0</td>\n",
              "      <td>Oct 01, 2023</td>\n",
              "      <td>None</td>\n",
              "      <td>7391</td>\n",
              "      <td>None</td>\n",
              "      <td>3.0</td>\n",
              "      <td>768153</td>\n",
              "      <td>0.0</td>\n",
              "      <td>22.499612</td>\n",
              "      <td>None</td>\n",
              "      <td>E M Bypass</td>\n",
              "      <td>88.408207</td>\n",
              "      <td>Natural Group &amp; Shivom Realty</td>\n",
              "      <td>Nov 02, 2020</td>\n",
              "      <td>13000000.0</td>\n",
              "      <td>Shivom Utopia</td>\n",
              "      <td>https://www.99acres.com/3-bhk-bedroom-apartmen...</td>\n",
              "    </tr>\n",
              "  </tbody>\n",
              "</table>\n",
              "</div>"
            ],
            "text/plain": [
              "   area_sqft  ...                                                url\n",
              "0     1361.0  ...  https://www.99acres.com/3-bhk-bedroom-apartmen...\n",
              "1     1373.0  ...  https://www.99acres.com/3-bhk-bedroom-apartmen...\n",
              "2     1531.0  ...  https://www.99acres.com/3-bhk-bedroom-apartmen...\n",
              "3     1532.0  ...  https://www.99acres.com/3-bhk-bedroom-apartmen...\n",
              "4     1704.0  ...  https://www.99acres.com/3-bhk-bedroom-apartmen...\n",
              "\n",
              "[5 rows x 17 columns]"
            ]
          },
          "metadata": {
            "tags": []
          },
          "execution_count": 90
        }
      ]
    },
    {
      "cell_type": "code",
      "metadata": {
        "id": "RfgNT33qCs7F",
        "outputId": "804e5997-e7d6-490b-fe5c-1f36dc5d6dfe",
        "colab": {
          "base_uri": "https://localhost:8080/"
        }
      },
      "source": [
        "output.shape"
      ],
      "execution_count": 91,
      "outputs": [
        {
          "output_type": "execute_result",
          "data": {
            "text/plain": [
              "(693, 17)"
            ]
          },
          "metadata": {
            "tags": []
          },
          "execution_count": 91
        }
      ]
    },
    {
      "cell_type": "code",
      "metadata": {
        "id": "fuN-pdrsFC-x"
      },
      "source": [
        "output.to_csv(r'Datasets\\raw_dataset.csv')"
      ],
      "execution_count": 92,
      "outputs": []
    },
    {
      "cell_type": "code",
      "metadata": {
        "id": "n3Dh0nhsFfGo"
      },
      "source": [
        ""
      ],
      "execution_count": null,
      "outputs": []
    }
  ]
}