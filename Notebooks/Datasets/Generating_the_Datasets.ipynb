{
  "nbformat": 4,
  "nbformat_minor": 0,
  "metadata": {
    "colab": {
      "name": "Generating the Datasets.ipynb",
      "provenance": []
    },
    "kernelspec": {
      "name": "python3",
      "display_name": "Python 3"
    }
  },
  "cells": [
    {
      "cell_type": "code",
      "metadata": {
        "id": "rFNpoeuA4MZo"
      },
      "source": [
        "import pandas as pd\n",
        "import requests\n",
        "from bs4 import BeautifulSoup"
      ],
      "execution_count": 2,
      "outputs": []
    },
    {
      "cell_type": "markdown",
      "metadata": {
        "id": "iuAHFkai70Th"
      },
      "source": [
        "https://www.99acres.com/api-aggregator/srp/search?property_type=1&area_unit=1&platform=DESKTOP&moduleName=GRAILS_SRP&workflow=GRAILS_SRP&page_size=25&page=2&city=25&preference=S&res_com=R&seoUrlType=DEFAULT"
      ]
    },
    {
      "cell_type": "markdown",
      "metadata": {
        "id": "fWIY_FQ0_6qJ"
      },
      "source": [
        "https://www.99acres.com/api-aggregator/psuedoData?prop_id=E52696704&stage=load"
      ]
    },
    {
      "cell_type": "code",
      "metadata": {
        "id": "vmVjzds2lSgV",
        "outputId": "b3a9d68f-6647-4737-a8a4-249d0c1275ca",
        "colab": {
          "base_uri": "https://localhost:8080/"
        }
      },
      "source": [
        "count = 1\n",
        "ID_list = []\n",
        "while(count >= 1):\n",
        "  url = f\"https://www.99acres.com/api-aggregator/srp/search?property_type=1&area_unit=1&platform=DESKTOP&moduleName=GRAILS_SRP&workflow=GRAILS_SRP&page_size=30&page={count}&city=25&preference=S&res_com=R&seoUrlType=DEFAULT\"\n",
        "  response = requests.get(url)\n",
        "  if response.json()['status']['code'] != 1:\n",
        "      break\n",
        "  else:\n",
        "    ids = response.json()['properties']\n",
        "    c = 1\n",
        "    for id in ids:\n",
        "      if c != 31:\n",
        "        ID_list.append(id['PROP_ID'])\n",
        "        c += 1\n",
        "  count += 1\n",
        "\n",
        "print(len(ID_list))"
      ],
      "execution_count": 32,
      "outputs": [
        {
          "output_type": "stream",
          "text": [
            "16800\n"
          ],
          "name": "stdout"
        }
      ]
    },
    {
      "cell_type": "code",
      "metadata": {
        "id": "TYZetSrde4Zq"
      },
      "source": [
        "url = \"https://www.99acres.com/api-aggregator/psuedoData?prop_id=K51945048&stage=load\"\n",
        "\n",
        "response = requests.get(url)"
      ],
      "execution_count": 33,
      "outputs": []
    },
    {
      "cell_type": "code",
      "metadata": {
        "id": "gB8HBFswtxzn"
      },
      "source": [
        ""
      ],
      "execution_count": null,
      "outputs": []
    }
  ]
}