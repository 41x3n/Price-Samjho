{
  "nbformat": 4,
  "nbformat_minor": 0,
  "metadata": {
    "colab": {
      "name": "Generating the Datasets.ipynb",
      "provenance": [],
      "collapsed_sections": []
    },
    "kernelspec": {
      "name": "python3",
      "display_name": "Python 3"
    }
  },
  "cells": [
    {
      "cell_type": "code",
      "metadata": {
        "id": "rFNpoeuA4MZo"
      },
      "source": [
        "import pandas as pd\n",
        "import requests\n",
        "import time"
      ],
      "execution_count": null,
      "outputs": []
    },
    {
      "cell_type": "code",
      "metadata": {
        "id": "vmVjzds2lSgV",
        "outputId": "c3c140d5-8de7-4d10-ec69-f59ca4e91422",
        "colab": {
          "base_uri": "https://localhost:8080/"
        }
      },
      "source": [
        "count = 1\n",
        "ID_list = []\n",
        "while(count <= 150):\n",
        "  url = f\"https://www.99acres.com/api-aggregator/srp/search?property_type=1&area_unit=1&platform=DESKTOP&moduleName=GRAILS_SRP&workflow=GRAILS_SRP&page_size=30&page={count}&city=25&preference=S&res_com=R&seoUrlType=DEFAULT\"\n",
        "  response = requests.get(url)\n",
        "  response = response.json()\n",
        "  if response['status']['code'] != 1:\n",
        "      break\n",
        "  else:\n",
        "    ids = response['properties']\n",
        "    c = 1\n",
        "    for id in ids:\n",
        "      if c != 31:\n",
        "        ID_list.append(id['PROP_ID'])\n",
        "        c += 1\n",
        "  count += 1\n",
        "\n",
        "print(len(ID_list))"
      ],
      "execution_count": null,
      "outputs": [
        {
          "output_type": "stream",
          "text": [
            "4500\n"
          ],
          "name": "stdout"
        }
      ]
    },
    {
      "cell_type": "code",
      "metadata": {
        "id": "nmKdy7fHCbON"
      },
      "source": [
        "output = pd.DataFrame()\n",
        "\n",
        "for id in ID_list:\n",
        "  try:\n",
        "    url = f\"https://www.99acres.com/api-aggregator/psuedoData?prop_id={id}&stage=load\"\n",
        "    # time.sleep(0.4)\n",
        "    response = requests.get(url)\n",
        "    response = response.json()\n",
        "\n",
        "    prop_data = response['propertyDetails']['prop_data']\n",
        "\n",
        "    lattitude = prop_data['Latitude']\n",
        "    longitude = prop_data['Longitude']\n",
        "    post_date = prop_data['Modify_Date']\n",
        "    availability_date = prop_data['Availability_Info']['Availability_Date']\n",
        "    owner_name = prop_data['company_label']\n",
        "    property_name = prop_data['Prop_Name']\n",
        "    id = prop_data['Building_Id']\n",
        "    locality_name = prop_data ['Locality_Name']\n",
        "    base_price = prop_data['Price_Per_Unit_Area']\n",
        "\n",
        "    for floor in response['floorPlan']:\n",
        "      area_sqft = floor['SALEABLE_AREA_SQFT']\n",
        "      price = floor['NEW_BOOKING_PRICE']['min']\n",
        "      details = floor['unitDetailSectionParts']\n",
        "      bedrooms = details['bedrooms']\n",
        "      kitchens = details['kitchens']\n",
        "      bathroom = details['bathroom']\n",
        "      balcony = details['balcony']\n",
        "      living = details['living']\n",
        "      data = {'id': id, \n",
        "              'lattitude': lattitude, \n",
        "              'longitude': longitude, \n",
        "              'post_date': post_date, \n",
        "              'availability_date': availability_date, \n",
        "              'owner_name': owner_name, \n",
        "              'property_name': property_name, \n",
        "              'locality_name': locality_name, \n",
        "              'base_price': base_price, \n",
        "              'area_sqft': area_sqft, \n",
        "              'price': price, \n",
        "              'bedrooms': bedrooms, \n",
        "              'kitchens': kitchens, \n",
        "              'bathroom': bathroom, \n",
        "              'balcony': balcony, \n",
        "              'living': living}\n",
        "      output = output.append(data, ignore_index=True)\n",
        "  except:\n",
        "    pass"
      ],
      "execution_count": null,
      "outputs": []
    },
    {
      "cell_type": "code",
      "metadata": {
        "id": "fuN-pdrsFC-x"
      },
      "source": [
        "output.to_csv(r'Datasets\\raw_dataset.csv')"
      ],
      "execution_count": null,
      "outputs": []
    },
    {
      "cell_type": "code",
      "metadata": {
        "id": "n3Dh0nhsFfGo"
      },
      "source": [
        ""
      ],
      "execution_count": null,
      "outputs": []
    }
  ]
}